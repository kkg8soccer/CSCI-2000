{
 "cells": [
  {
   "cell_type": "markdown",
   "metadata": {},
   "source": [
    "# Matplotlib Animation Tutorial\n",
    "For quite a long time, animation in `matplotlib` was not an easy task and was done mainly through clever hacks. However, things have started to change since version 1.1 and the introduction of tools for creating animation very intuitively, with the possibility to save them in all kind of formats (but don't expect to be able to run very complex animation at 60 fps though).\n",
    "## Basic Animation\n",
    "The animation tools center around the `matplotlib.animation.Animation` base class, which provides a framework around which the animation functionality is built. The main interfaces are `TimedAnimation` and `FuncAnimation`, which you can read more about in the [documentation](http://matplotlib.org/api/animation_api.html). The most useful way of the two is 'FuncAnimation' object that specifies to `matplotlib` what is the figure to update, what is the update function and what is the delay between frames."
   ]
  },
  {
   "cell_type": "code",
   "execution_count": null,
   "metadata": {
    "collapsed": true
   },
   "outputs": [],
   "source": []
  }
 ],
 "metadata": {
  "kernelspec": {
   "display_name": "Python 3",
   "language": "python",
   "name": "python3"
  },
  "language_info": {
   "codemirror_mode": {
    "name": "ipython",
    "version": 3
   },
   "file_extension": ".py",
   "mimetype": "text/x-python",
   "name": "python",
   "nbconvert_exporter": "python",
   "pygments_lexer": "ipython3",
   "version": "3.4.3"
  }
 },
 "nbformat": 4,
 "nbformat_minor": 0
}
