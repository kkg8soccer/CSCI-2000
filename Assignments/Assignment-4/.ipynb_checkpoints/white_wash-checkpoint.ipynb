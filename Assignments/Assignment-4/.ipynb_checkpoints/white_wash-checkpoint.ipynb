{
 "cells": [
  {
   "cell_type": "code",
   "execution_count": null,
   "metadata": {
    "collapsed": true
   },
   "outputs": [],
   "source": [
    "#Katherine Koehler-Grassau 100559637\n",
    "%pylab inline\n",
    "import numpy as np\n",
    "import matplotlib.pyplot as plt\n",
    "import matplotlib.animation as animation\n",
    "def WhiteWash(colorMap): #necessary libraries for this questions\n",
    "   \n",
    "    # Use the flatten function on the colour map.\n",
    "    newColors = colorMap.flatten()\n",
    "   \n",
    "   # make an array of ones as learned in tutorial and add it the the newColours flattened colour map\n",
    "    one = np.ones_like(newColors)\n",
    "    newColors = newColors + one\n",
    "   \n",
    "   \n",
    "   \n",
    "    #Average of the original colours (and white)\n",
    "    # making a new array with the original colour map\n",
    "    half=np.zeros_like(newColors)\n",
    "    half.fill(0.5)\n",
    "    newColors = newColors * half\n",
    "   \n",
    "   \n",
    "    #Now putting the colour map back to it's original form.\n",
    "    newColors=newColors.reshape(newColors.size/3.0 , 3)\n",
    "   \n",
    "\n",
    " #an example this returns the function that I created above.\n",
    "    return (newColors)\n",
    "\n",
    "\n",
    "\n",
    "#This is an example of an array of a colour map. \n",
    "\n",
    "h = np.array([[1, .5,.7], [.3,.5,.6],[.4,.6,.6]], float)\n",
    "\n",
    "#This prints the whole whitewash functions and shows the ouput\n",
    "\n",
    "print(WhiteWash(h))\n"
   ]
  }
 ],
 "metadata": {
  "kernelspec": {
   "display_name": "Python 2",
   "language": "python",
   "name": "python2"
  },
  "language_info": {
   "codemirror_mode": {
    "name": "ipython",
    "version": 2
   },
   "file_extension": ".py",
   "mimetype": "text/x-python",
   "name": "python",
   "nbconvert_exporter": "python",
   "pygments_lexer": "ipython2",
   "version": "2.7.10"
  }
 },
 "nbformat": 4,
 "nbformat_minor": 0
}
