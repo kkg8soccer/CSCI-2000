{
 "cells": [
  {
   "cell_type": "code",
   "execution_count": null,
   "metadata": {
    "collapsed": true
   },
   "outputs": [],
   "source": [
    "def WhiteWash(colorMap):\n",
    "   \n",
    "    #start by flattening the whole color map\n",
    "    newColors = colorMap.flatten()\n",
    "   \n",
    "    #make an array of ones and add it to the flattened color map\n",
    "    one = np.ones_like(newColors)\n",
    "    newColors = newColors + one\n",
    "   \n",
    "   \n",
    "    #make an array of 0.5's and multiply by the color map\n",
    "    #this will give us the average of the original colors and white\n",
    "    half=np.zeros_like(newColors)\n",
    "    half.fill(0.5)\n",
    "    newColors = newColors * half\n",
    "   \n",
    "   \n",
    "    #now reshape the array back into a proper color map\n",
    "    newColors=newColors.reshape(newColors.size/3.0 , 3)\n",
    "   \n",
    "\n",
    "   \n",
    "  \n",
    "    return (newColors)\n",
    "\n",
    "\n",
    "\n",
    "#an example\n",
    "\n",
    "h = np.array([[1, .5,.7], [.3,.5,.6],[.4,.6,.6]], float)\n",
    "\n",
    "print(WhiteWash(h))\n"
   ]
  }
 ],
 "metadata": {
  "kernelspec": {
   "display_name": "Python 2",
   "language": "python",
   "name": "python2"
  },
  "language_info": {
   "codemirror_mode": {
    "name": "ipython",
    "version": 2
   },
   "file_extension": ".py",
   "mimetype": "text/x-python",
   "name": "python",
   "nbconvert_exporter": "python",
   "pygments_lexer": "ipython2",
   "version": "2.7.10"
  }
 },
 "nbformat": 4,
 "nbformat_minor": 0
}
