{
 "cells": [
  {
   "cell_type": "code",
   "execution_count": 1,
   "metadata": {
    "collapsed": false
   },
   "outputs": [
    {
     "name": "stdout",
     "output_type": "stream",
     "text": [
      "When n =      10, rho_n = 3.04183961893\n",
      "When n =      10, tau_n = 3.04936163598\n",
      "When n =      10, mu_n = 3.14138462247\n",
      "When n =      100, rho_n = 3.13159290356\n",
      "When n =      100, tau_n = 3.13207653181\n",
      "When n =      100, mu_n = 3.14159241531\n",
      "When n =      1000, rho_n = 3.14059265384\n",
      "When n =      1000, tau_n = 3.14063805621\n",
      "When n =      1000, mu_n = 3.14159265335\n",
      "When n =      10000, rho_n = 3.14149265359\n",
      "When n =      10000, tau_n = 3.14149716395\n",
      "When n =      10000, mu_n = 3.14159265359\n",
      "When n =      100000, rho_n = 3.14158265359\n",
      "When n =      100000, tau_n = 3.14158310433\n",
      "When n =      100000, mu_n = 3.14159265359\n",
      "When n =      1000000, rho_n = 3.14159165359\n",
      "When n =      1000000, tau_n = 3.14159169866\n",
      "When n =      1000000, mu_n = 3.14159265359\n"
     ]
    }
   ],
   "source": [
    "import math\n",
    "from numpy import *\n",
    "import numpy as np # These are the necessary libraries for this question\n",
    "\n",
    "\n",
    "# I am defining the function rho that takes inputs for the value n\n",
    "def rho_n(n): \n",
    "    k = 1\n",
    "    i = 0\n",
    "    total = 0\n",
    "    while i < n:\n",
    "        x = pow(-1, i+2)\n",
    "        # The float for this part is necessary to keep the right about of accuracy\n",
    "        total += x/float(k)   \n",
    "        k+=2\n",
    "        i+=1\n",
    "    return 4*total # it will go through all the inputted n values and return an out value which should be close to pi\n",
    "\n",
    "# I am defining the function tau that takes inputs for the value n\n",
    "def tau_n(n):\n",
    "    i = 1\n",
    "    total = 0\n",
    "    while i <= n:\n",
    "        total += 1/float(pow(i, 2))\n",
    "        i+=1\n",
    "    return np.sqrt(6*total)*total # it will go through all the inputted n values and return an out value which should be close to pi\n",
    "\n",
    "# I am defining the function mu that takes inputs for the value n\n",
    "def mu_n(n):\n",
    "    i = 1\n",
    "    total = 0\n",
    "    while i <= n:\n",
    "        total += 1/float(pow(i, 4))\n",
    "        i+=1\n",
    "    return (90*total)**(1/4.0) # it will go through all the inputted n values and return an out value which should be close to pi\n",
    "\n",
    "def main():\n",
    "    #This is the main where I want to input the desired n values. The n values should run through the function\n",
    "    n = [10, 100, 1000, 10000, 100000, 1000000]\n",
    "    for i in n:\n",
    "        rho = rho_n(i)\n",
    "        tau = tau_n(i)\n",
    "        mu = mu_n(i)\n",
    "        # this is for the number of decimals we need to have\n",
    "        print \"When n =      %d, rho_n = %.11f\" % (i, rho)\n",
    "        print \"When n =      %d, tau_n = %.11f\" % (i, tau)\n",
    "        print \"When n =      %d, mu_n = %.11f\" % (i, mu)\n",
    "if __name__ == '__main__':\n",
    "    main()"
   ]
  },
  {
   "cell_type": "code",
   "execution_count": null,
   "metadata": {
    "collapsed": true
   },
   "outputs": [],
   "source": []
  }
 ],
 "metadata": {
  "kernelspec": {
   "display_name": "Python 2",
   "language": "python",
   "name": "python2"
  },
  "language_info": {
   "codemirror_mode": {
    "name": "ipython",
    "version": 2
   },
   "file_extension": ".py",
   "mimetype": "text/x-python",
   "name": "python",
   "nbconvert_exporter": "python",
   "pygments_lexer": "ipython2",
   "version": "2.7.10"
  }
 },
 "nbformat": 4,
 "nbformat_minor": 0
}
