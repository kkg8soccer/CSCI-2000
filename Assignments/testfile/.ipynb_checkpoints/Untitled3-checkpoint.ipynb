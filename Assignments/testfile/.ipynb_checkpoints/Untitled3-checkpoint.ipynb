{
 "cells": [
  {
   "cell_type": "code",
   "execution_count": 1,
   "metadata": {
    "collapsed": false
   },
   "outputs": [
    {
     "name": "stdout",
     "output_type": "stream",
     "text": [
      "Populating the interactive namespace from numpy and matplotlib\n"
     ]
    }
   ],
   "source": [
    "%pylab inline\n",
    "import struct\n",
    "import numpy as np\n",
    "import matplotlib.pyplot as plt\n",
    "from scipy import stats"
   ]
  },
  {
   "cell_type": "code",
   "execution_count": 2,
   "metadata": {
    "collapsed": false
   },
   "outputs": [
    {
     "data": {
      "image/png": "[encoded data removed]",
      "text/plain": [
       "<matplotlib.figure.Figure at 0x7f59d43d8350>"
      ]
     },
     "metadata": {},
     "output_type": "display_data"
    }
   ],
   "source": [
    "def speed(list):\n",
    "    return (list[4]**2+list[5]**2+list[6]**2)**0.5\n",
    "\n",
    "with open('../../Large_Data/halo.dat', mode ='rb') as file:\n",
    "    filecontent = file.read()\n",
    "    #get number of bodies\n",
    "    N_halo = struct.unpack(\"i\", filecontent[:4])[0]\n",
    "    #get time of snapshot\n",
    "    T_halo = struct.unpack(\"d\", filecontent[4:12])[0]\n",
    "    #get number of dimmension\n",
    "    data = struct.unpack(\"f\"*((len(filecontent)-12)//4), filecontent[12:])\n",
    "    i = 0\n",
    "    data_halo = np.zeros(shape=(N_halo,7))\n",
    "    for x in range(len(data)):\n",
    "        data_halo[i][x%7] = data[x]\n",
    "        if x%7 == 6:\n",
    "            i += 1\n",
    "v_halo = np.zeros(N_halo)\n",
    "#getting speeds\n",
    "for i in range(N_halo):\n",
    "    v_halo[i] = speed(data_halo[i])\n",
    "n, bins, patches = plt.hist(v_halo, 40, normed=1, facecolor='red', alpha=.75)\n",
    "bins = 0.5*(bins[1:] + bins[:-1])\n",
    "\n",
    "plt.title(\"Velocity histogram (halo)_100560568\")\n",
    "plt.xlabel(\"Speed in m/s\")\n",
    "plt.ylabel(\"Probablity\")\n",
    "plt.axis([0,65,0,.1])\n",
    "plt.show()"
   ]
  },
  {
   "cell_type": "code",
   "execution_count": null,
   "metadata": {
    "collapsed": true
   },
   "outputs": [],
   "source": []
  }
 ],
 "metadata": {
  "kernelspec": {
   "display_name": "Python 2",
   "language": "python",
   "name": "python2"
  },
  "language_info": {
   "codemirror_mode": {
    "name": "ipython",
    "version": 2
   },
   "file_extension": ".py",
   "mimetype": "text/x-python",
   "name": "python",
   "nbconvert_exporter": "python",
   "pygments_lexer": "ipython2",
   "version": "2.7.10"
  }
 },
 "nbformat": 4,
 "nbformat_minor": 0
}
