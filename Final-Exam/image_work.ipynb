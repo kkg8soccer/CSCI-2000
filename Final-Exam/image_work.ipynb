{
 "cells": [
  {
   "cell_type": "code",
   "execution_count": null,
   "metadata": {
    "collapsed": true
   },
   "outputs": [],
   "source": [
    "%matplotlib inline\n",
    "import numpy as np\n",
    "from scipy import stats  # same for other sub-modules\n",
    "import numpy as np\n",
    "import matplotlib.pyplot as plt\n",
    "\n",
    "#a)\n",
    "\n",
    "from scipy import io as spio\n",
    "rgb_peppers = np.array()\n",
    "spio.savemat('file.mat', {'a': a}) # savemat expects a dictionary\n",
    "data = spio.loadmat('file.mat', struct_as_record=True)\n",
    "data['a']\n",
    "from scipy import misc\n",
    "misc.imread('images/peppers.png')    \n",
    "\n",
    "# Matplotlib also has a similar function\n",
    "import matplotlib.pyplot as plt\n",
    "plt.imread('images/peppers.png')\n",
    "\n",
    "#b)\n",
    "rgb_peppers.shape # should print the dimensions of the array from above\n",
    "\n",
    "#c)\n",
    "face[100:120] = 255\n",
    "\n",
    "lx, ly = face.shape\n",
    "X, Y = np.ogrid[0:lx, 0:ly]\n",
    "mask = (X - lx / 2) ** 2 + (Y - ly / 2) ** 2 > lx * ly / 4\n",
    "# Masks\n",
    "face[mask] = 0\n",
    "# Fancy indexing\n",
    "face[range(400), range(400)] = 255\n",
    "\n",
    "plt.imshow(face, cmap=plt.cm.gray) # This changes it to a grayscale\n",
    "plt.axis('off')\n",
    "plt.show()\n",
    "\n",
    "gray_peppers = np.array() # constructs a new arraw but with gray_peppers\n",
    "spio.savemat('file.mat', {'a': a}) # savemat expects a dictionary\n",
    "data = spio.loadmat('file.mat', struct_as_record=True)\n",
    "data['a']\n",
    "from scipy import misc\n",
    "misc.imread('images/peppers-gray.png')  # saves the grayscale file array as pepper-gray.png \n",
    "\n",
    "# Matplotlib also has a similar function\n",
    "import matplotlib.pyplot as plt\n",
    "plt.imread('images/peppers-gray.png') # plots the array image\n",
    "\n",
    "#d) \n",
    "optimize.fmin_bfgs(f, 0) # This gives the minimum value of the grayscale image\n",
    "\n",
    "gray_peppers = np.random.normal(size=10000)  # This gives a histogram for gray scale\n",
    "bins = np.linspace(-5, 5, 30)\n",
    "histogram, bins = np.histogram(a, bins=bins, normed=True)\n",
    "bins = 50 # this is 50 bins\n",
    "b = stats.norm.pdf(bins)\n",
    "plt.plot(bins, histogram)\n",
    "plt.plot(bins, b)\n",
    "plt.show()\n",
    "\n",
    "spio.save(peppers-histogram.png) #saves the histogram as the file\n",
    "\n",
    "\n"
   ]
  }
 ],
 "metadata": {
  "kernelspec": {
   "display_name": "Python 2",
   "language": "python",
   "name": "python2"
  },
  "language_info": {
   "codemirror_mode": {
    "name": "ipython",
    "version": 2
   },
   "file_extension": ".py",
   "mimetype": "text/x-python",
   "name": "python",
   "nbconvert_exporter": "python",
   "pygments_lexer": "ipython2",
   "version": "2.7.10"
  }
 },
 "nbformat": 4,
 "nbformat_minor": 0
}
